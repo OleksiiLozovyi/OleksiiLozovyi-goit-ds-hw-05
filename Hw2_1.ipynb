{
  "nbformat": 4,
  "nbformat_minor": 0,
  "metadata": {
    "colab": {
      "provenance": [],
      "authorship_tag": "ABX9TyOqlprkjOcgidk+gqzvtUxX",
      "include_colab_link": true
    },
    "kernelspec": {
      "name": "python3",
      "display_name": "Python 3"
    },
    "language_info": {
      "name": "python"
    }
  },
  "cells": [
    {
      "cell_type": "markdown",
      "metadata": {
        "id": "view-in-github",
        "colab_type": "text"
      },
      "source": [
        "<a href=\"https://colab.research.google.com/github/OleksiiLozovyi/goit-ds-hw-05/blob/main/Hw2_1.ipynb\" target=\"_parent\"><img src=\"https://colab.research.google.com/assets/colab-badge.svg\" alt=\"Open In Colab\"/></a>"
      ]
    },
    {
      "cell_type": "code",
      "execution_count": null,
      "metadata": {
        "id": "2TH9Te7HjnMJ"
      },
      "outputs": [],
      "source": [
        "import pandas as pd\n",
        "import numpy as np\n",
        "import matplotlib.pyplot as plt\n",
        "\n"
      ]
    },
    {
      "cell_type": "code",
      "source": [
        "pd.set_option('display.max_rows', None)\n",
        "pd.set_option('display.max_columns', None)\n",
        "\n",
        "\n",
        "url = \"https://uk.wikipedia.org/wiki/%D0%9D%D0%B0%D1%81%D0%B5%D0%BB%D0%B5%D0%BD%D0%BD%D1%8F_%D0%A3%D0%BA%D1%80%D0%B0%D1%97%D0%BD%D0%B8\"\n",
        "\n",
        "tables = pd.read_html(url, match=\"Коефіцієнт народжуваності в регіонах України \\\\(1950—2019\\\\)\")\n",
        "\n",
        "if len(tables) > 0:\n",
        "    birthrate_table = tables[0]\n",
        "    print(birthrate_table)\n"
      ],
      "metadata": {
        "colab": {
          "base_uri": "https://localhost:8080/"
        },
        "id": "ksMMv1OaJrta",
        "outputId": "49715e1a-7263-4353-ef3a-986fa95e3063"
      },
      "execution_count": null,
      "outputs": [
        {
          "output_type": "stream",
          "name": "stdout",
          "text": [
            "               Регіон   1950   1960   1970  1990  2000  2012 2014 2019\n",
            "0                Крим  230.0  206.0  160.0   130    73   126    —    —\n",
            "1           Вінницька  224.0  192.0  142.0   124    84   112  109   76\n",
            "2           Волинська  247.0  250.0  179.0   153   112   148  141  101\n",
            "3    Дніпропетровська  204.0  204.0  151.0   123    71   112  111   71\n",
            "4            Донецька  271.0  214.0  140.0   109    61    98   82    —\n",
            "5         Житомирська  261.0  223.0  159.0   129    89   122  120   79\n",
            "6        Закарпатська  314.0  273.0  207.0   168   115   151  146  104\n",
            "7          Запорізька  219.0  197.0  150.0   124    71   106  106   68\n",
            "8   Івано-Франківська  243.0  248.0  182.0   155   103   124  122   88\n",
            "9            Київська  204.0  189.0  156.0   123    73   122  121   80\n",
            "10     Кіровоградська  216.0  171.0  145.0   126    79   110  108   68\n",
            "11          Луганська  262.0  235.0  144.0   116    62    96   51    —\n",
            "12          Львівська  234.0  240.0  171.0   140    91   119  119   87\n",
            "13       Миколаївська  211.0  194.0  155.0   137    80   115  112   71\n",
            "14            Одеська  241.0  192.0  148.0   126    80   127  123   88\n",
            "15         Полтавська  186.0  163.0  131.0   118    70    99  100   65\n",
            "16         Рівненська  269.0  267.0  193.0   158   118   159  148  107\n",
            "17            Сумська  216.0  184.0  132.0   115    70    97   92   60\n",
            "18      Тернопільська  213.0  216.0  157.0   142    92   113  109   76\n",
            "19         Харківська  197.0  173.0  140.0   114    68    99  101   68\n",
            "20         Херсонська  208.0  214.0  166.0   143    85   117  115   81\n",
            "21        Хмельницька  234.0  198.0  148.0   129    85   113  112   79\n",
            "22          Черкаська  205.0  179.0  144.0   123    75   100   98   64\n",
            "23        Чернівецька  247.0  218.0  170.0   148   101   128  129   92\n",
            "24       Чернігівська  220.0  183.0  127.0   108    69    94   90   61\n",
            "25               Київ    NaN  174.0  159.0   120    73   120  121  110\n",
            "26        Севастополь    NaN    NaN    NaN   125    70   120    —    —\n",
            "27            Україна  228.0  205.0  152.0   126    78   114  111   81\n"
          ]
        }
      ]
    },
    {
      "cell_type": "code",
      "source": [
        "rows, columns = birthrate_table.shape\n",
        "print(f\"Кількість рядків: {rows}, Кількість стовпців: {columns}\")"
      ],
      "metadata": {
        "colab": {
          "base_uri": "https://localhost:8080/"
        },
        "id": "7tJDxORuS7SC",
        "outputId": "2c7960e0-03e6-439c-edb5-b56d64803ca6"
      },
      "execution_count": null,
      "outputs": [
        {
          "output_type": "stream",
          "name": "stdout",
          "text": [
            "Кількість рядків: 28, Кількість стовпців: 9\n"
          ]
        }
      ]
    },
    {
      "cell_type": "code",
      "source": [
        "if len(tables) > 0:\n",
        "    birthrate_table = tables[0]\n",
        "    birthrate_table.replace(\"—\", np.nan)\n",
        "    print(birthrate_table)\n"
      ],
      "metadata": {
        "colab": {
          "base_uri": "https://localhost:8080/"
        },
        "id": "X5nesdvVSj7C",
        "outputId": "0db6acfa-edd4-4592-ffec-6b9b3c0b4e34"
      },
      "execution_count": null,
      "outputs": [
        {
          "output_type": "stream",
          "name": "stdout",
          "text": [
            "               Регіон   1950   1960   1970  1990  2000  2012 2014 2019\n",
            "0                Крим  230.0  206.0  160.0   130    73   126  NaN  NaN\n",
            "1           Вінницька  224.0  192.0  142.0   124    84   112  109   76\n",
            "2           Волинська  247.0  250.0  179.0   153   112   148  141  101\n",
            "3    Дніпропетровська  204.0  204.0  151.0   123    71   112  111   71\n",
            "4            Донецька  271.0  214.0  140.0   109    61    98   82  NaN\n",
            "5         Житомирська  261.0  223.0  159.0   129    89   122  120   79\n",
            "6        Закарпатська  314.0  273.0  207.0   168   115   151  146  104\n",
            "7          Запорізька  219.0  197.0  150.0   124    71   106  106   68\n",
            "8   Івано-Франківська  243.0  248.0  182.0   155   103   124  122   88\n",
            "9            Київська  204.0  189.0  156.0   123    73   122  121   80\n",
            "10     Кіровоградська  216.0  171.0  145.0   126    79   110  108   68\n",
            "11          Луганська  262.0  235.0  144.0   116    62    96   51  NaN\n",
            "12          Львівська  234.0  240.0  171.0   140    91   119  119   87\n",
            "13       Миколаївська  211.0  194.0  155.0   137    80   115  112   71\n",
            "14            Одеська  241.0  192.0  148.0   126    80   127  123   88\n",
            "15         Полтавська  186.0  163.0  131.0   118    70    99  100   65\n",
            "16         Рівненська  269.0  267.0  193.0   158   118   159  148  107\n",
            "17            Сумська  216.0  184.0  132.0   115    70    97   92   60\n",
            "18      Тернопільська  213.0  216.0  157.0   142    92   113  109   76\n",
            "19         Харківська  197.0  173.0  140.0   114    68    99  101   68\n",
            "20         Херсонська  208.0  214.0  166.0   143    85   117  115   81\n",
            "21        Хмельницька  234.0  198.0  148.0   129    85   113  112   79\n",
            "22          Черкаська  205.0  179.0  144.0   123    75   100   98   64\n",
            "23        Чернівецька  247.0  218.0  170.0   148   101   128  129   92\n",
            "24       Чернігівська  220.0  183.0  127.0   108    69    94   90   61\n",
            "25               Київ    NaN  174.0  159.0   120    73   120  121  110\n",
            "26        Севастополь    NaN    NaN    NaN   125    70   120  NaN  NaN\n",
            "27            Україна  228.0  205.0  152.0   126    78   114  111   81\n"
          ]
        }
      ]
    },
    {
      "cell_type": "code",
      "source": [
        "print(birthrate_table.dtypes)"
      ],
      "metadata": {
        "colab": {
          "base_uri": "https://localhost:8080/"
        },
        "id": "_FIX-26YbF3q",
        "outputId": "f9033541-e45d-40f1-a570-d2285b95ecb1"
      },
      "execution_count": null,
      "outputs": [
        {
          "output_type": "stream",
          "name": "stdout",
          "text": [
            "Регіон     object\n",
            "1950      float64\n",
            "1960      float64\n",
            "1970      float64\n",
            "1990        int64\n",
            "2000        int64\n",
            "2012        int64\n",
            "2014       object\n",
            "2019       object\n",
            "dtype: object\n"
          ]
        }
      ]
    },
    {
      "cell_type": "code",
      "source": [
        "if len(tables) > 0:\n",
        "    birthrate_table = tables[0]\n",
        "    birthrate_table.replace(\"—\", np.nan)\n",
        "    for column in birthrate_table.columns:\n",
        "        birthrate_table[column] = pd.to_numeric(birthrate_table[column])\n",
        "    print(birthrate_table)"
      ],
      "metadata": {
        "colab": {
          "base_uri": "https://localhost:8080/"
        },
        "id": "v6qNwq2RbWkY",
        "outputId": "e6503789-8cb2-4c07-bfb4-f16eb4d6edd8"
      },
      "execution_count": null,
      "outputs": [
        {
          "output_type": "stream",
          "name": "stdout",
          "text": [
            "    Регіон   1950   1960   1970  1990  2000  2012   2014   2019\n",
            "0      NaN  230.0  206.0  160.0   130    73   126    NaN    NaN\n",
            "1      NaN  224.0  192.0  142.0   124    84   112  109.0   76.0\n",
            "2      NaN  247.0  250.0  179.0   153   112   148  141.0  101.0\n",
            "3      NaN  204.0  204.0  151.0   123    71   112  111.0   71.0\n",
            "4      NaN  271.0  214.0  140.0   109    61    98   82.0    NaN\n",
            "5      NaN  261.0  223.0  159.0   129    89   122  120.0   79.0\n",
            "6      NaN  314.0  273.0  207.0   168   115   151  146.0  104.0\n",
            "7      NaN  219.0  197.0  150.0   124    71   106  106.0   68.0\n",
            "8      NaN  243.0  248.0  182.0   155   103   124  122.0   88.0\n",
            "9      NaN  204.0  189.0  156.0   123    73   122  121.0   80.0\n",
            "10     NaN  216.0  171.0  145.0   126    79   110  108.0   68.0\n",
            "11     NaN  262.0  235.0  144.0   116    62    96   51.0    NaN\n",
            "12     NaN  234.0  240.0  171.0   140    91   119  119.0   87.0\n",
            "13     NaN  211.0  194.0  155.0   137    80   115  112.0   71.0\n",
            "14     NaN  241.0  192.0  148.0   126    80   127  123.0   88.0\n",
            "15     NaN  186.0  163.0  131.0   118    70    99  100.0   65.0\n",
            "16     NaN  269.0  267.0  193.0   158   118   159  148.0  107.0\n",
            "17     NaN  216.0  184.0  132.0   115    70    97   92.0   60.0\n",
            "18     NaN  213.0  216.0  157.0   142    92   113  109.0   76.0\n",
            "19     NaN  197.0  173.0  140.0   114    68    99  101.0   68.0\n",
            "20     NaN  208.0  214.0  166.0   143    85   117  115.0   81.0\n",
            "21     NaN  234.0  198.0  148.0   129    85   113  112.0   79.0\n",
            "22     NaN  205.0  179.0  144.0   123    75   100   98.0   64.0\n",
            "23     NaN  247.0  218.0  170.0   148   101   128  129.0   92.0\n",
            "24     NaN  220.0  183.0  127.0   108    69    94   90.0   61.0\n",
            "25     NaN    NaN  174.0  159.0   120    73   120  121.0  110.0\n",
            "26     NaN    NaN    NaN    NaN   125    70   120    NaN    NaN\n",
            "27     NaN  228.0  205.0  152.0   126    78   114  111.0   81.0\n"
          ]
        }
      ]
    },
    {
      "cell_type": "code",
      "source": [
        "if len(tables) > 0:\n",
        "    birthrate_table = tables[0]\n",
        "    birthrate_table.replace(\"—\", np.nan, inplace=True)\n",
        "    for column in birthrate_table.columns:\n",
        "        birthrate_table[column] = pd.to_numeric(birthrate_table[column], errors='coerce')\n",
        "    missing_data = birthrate_table.isnull().sum() / len(birthrate_table)\n",
        "    print(missing_data)"
      ],
      "metadata": {
        "colab": {
          "base_uri": "https://localhost:8080/"
        },
        "id": "A767hW30bfiF",
        "outputId": "1b7a503e-41c4-469b-e25c-ede10d6af038"
      },
      "execution_count": null,
      "outputs": [
        {
          "output_type": "stream",
          "name": "stdout",
          "text": [
            "Регіон    1.000000\n",
            "1950      0.071429\n",
            "1960      0.035714\n",
            "1970      0.035714\n",
            "1990      0.000000\n",
            "2000      0.000000\n",
            "2012      0.000000\n",
            "2014      0.071429\n",
            "2019      0.142857\n",
            "dtype: float64\n"
          ]
        }
      ]
    },
    {
      "cell_type": "code",
      "source": [
        "if len(tables) > 0:\n",
        "    birthrate_table = tables[0]\n",
        "    birthrate_table.replace(\"—\", np.nan, inplace=True)\n",
        "    for column in birthrate_table.columns:\n",
        "        birthrate_table[column] = pd.to_numeric(birthrate_table[column], errors='coerce')\n",
        "    birthrate_table.drop(index=birthrate_table.index[-1], inplace=True)\n",
        "    print(birthrate_table)"
      ],
      "metadata": {
        "colab": {
          "base_uri": "https://localhost:8080/"
        },
        "id": "bdJE1KxqiiDA",
        "outputId": "56c5f1e3-888f-4011-f142-873df457b911"
      },
      "execution_count": null,
      "outputs": [
        {
          "output_type": "stream",
          "name": "stdout",
          "text": [
            "    Регіон   1950   1960   1970  1990  2000  2012   2014   2019\n",
            "0      NaN  230.0  206.0  160.0   130    73   126    NaN    NaN\n",
            "1      NaN  224.0  192.0  142.0   124    84   112  109.0   76.0\n",
            "2      NaN  247.0  250.0  179.0   153   112   148  141.0  101.0\n",
            "3      NaN  204.0  204.0  151.0   123    71   112  111.0   71.0\n",
            "4      NaN  271.0  214.0  140.0   109    61    98   82.0    NaN\n",
            "5      NaN  261.0  223.0  159.0   129    89   122  120.0   79.0\n",
            "6      NaN  314.0  273.0  207.0   168   115   151  146.0  104.0\n",
            "7      NaN  219.0  197.0  150.0   124    71   106  106.0   68.0\n",
            "8      NaN  243.0  248.0  182.0   155   103   124  122.0   88.0\n",
            "9      NaN  204.0  189.0  156.0   123    73   122  121.0   80.0\n",
            "10     NaN  216.0  171.0  145.0   126    79   110  108.0   68.0\n",
            "11     NaN  262.0  235.0  144.0   116    62    96   51.0    NaN\n",
            "12     NaN  234.0  240.0  171.0   140    91   119  119.0   87.0\n",
            "13     NaN  211.0  194.0  155.0   137    80   115  112.0   71.0\n",
            "14     NaN  241.0  192.0  148.0   126    80   127  123.0   88.0\n",
            "15     NaN  186.0  163.0  131.0   118    70    99  100.0   65.0\n",
            "16     NaN  269.0  267.0  193.0   158   118   159  148.0  107.0\n",
            "17     NaN  216.0  184.0  132.0   115    70    97   92.0   60.0\n",
            "18     NaN  213.0  216.0  157.0   142    92   113  109.0   76.0\n",
            "19     NaN  197.0  173.0  140.0   114    68    99  101.0   68.0\n",
            "20     NaN  208.0  214.0  166.0   143    85   117  115.0   81.0\n",
            "21     NaN  234.0  198.0  148.0   129    85   113  112.0   79.0\n",
            "22     NaN  205.0  179.0  144.0   123    75   100   98.0   64.0\n",
            "23     NaN  247.0  218.0  170.0   148   101   128  129.0   92.0\n",
            "24     NaN  220.0  183.0  127.0   108    69    94   90.0   61.0\n"
          ]
        }
      ]
    },
    {
      "cell_type": "code",
      "source": [
        "if len(tables) > 0:\n",
        "    birthrate_table = tables[0]\n",
        "    birthrate_table.fillna(birthrate_table.mean(), inplace=True)\n",
        "    print(birthrate_table)"
      ],
      "metadata": {
        "colab": {
          "base_uri": "https://localhost:8080/"
        },
        "id": "JSG9MXC2lMXk",
        "outputId": "f4b5a8d5-e747-4779-8799-303e5175bb3b"
      },
      "execution_count": null,
      "outputs": [
        {
          "output_type": "stream",
          "name": "stdout",
          "text": [
            "    Регіон    1950        1960   1970  1990  2000  2012    2014        2019\n",
            "0      NaN  230.00  206.000000  160.0   130    73   126  111.44   80.173913\n",
            "1      NaN  224.00  192.000000  142.0   124    84   112  109.00   76.000000\n",
            "2      NaN  247.00  250.000000  179.0   153   112   148  141.00  101.000000\n",
            "3      NaN  204.00  204.000000  151.0   123    71   112  111.00   71.000000\n",
            "4      NaN  271.00  214.000000  140.0   109    61    98   82.00   80.173913\n",
            "5      NaN  261.00  223.000000  159.0   129    89   122  120.00   79.000000\n",
            "6      NaN  314.00  273.000000  207.0   168   115   151  146.00  104.000000\n",
            "7      NaN  219.00  197.000000  150.0   124    71   106  106.00   68.000000\n",
            "8      NaN  243.00  248.000000  182.0   155   103   124  122.00   88.000000\n",
            "9      NaN  204.00  189.000000  156.0   123    73   122  121.00   80.000000\n",
            "10     NaN  216.00  171.000000  145.0   126    79   110  108.00   68.000000\n",
            "11     NaN  262.00  235.000000  144.0   116    62    96   51.00   80.173913\n",
            "12     NaN  234.00  240.000000  171.0   140    91   119  119.00   87.000000\n",
            "13     NaN  211.00  194.000000  155.0   137    80   115  112.00   71.000000\n",
            "14     NaN  241.00  192.000000  148.0   126    80   127  123.00   88.000000\n",
            "15     NaN  186.00  163.000000  131.0   118    70    99  100.00   65.000000\n",
            "16     NaN  269.00  267.000000  193.0   158   118   159  148.00  107.000000\n",
            "17     NaN  216.00  184.000000  132.0   115    70    97   92.00   60.000000\n",
            "18     NaN  213.00  216.000000  157.0   142    92   113  109.00   76.000000\n",
            "19     NaN  197.00  173.000000  140.0   114    68    99  101.00   68.000000\n",
            "20     NaN  208.00  214.000000  166.0   143    85   117  115.00   81.000000\n",
            "21     NaN  234.00  198.000000  148.0   129    85   113  112.00   79.000000\n",
            "22     NaN  205.00  179.000000  144.0   123    75   100   98.00   64.000000\n",
            "23     NaN  247.00  218.000000  170.0   148   101   128  129.00   92.000000\n",
            "24     NaN  220.00  183.000000  127.0   108    69    94   90.00   61.000000\n",
            "25     NaN  231.04  174.000000  159.0   120    73   120  121.00  110.000000\n",
            "26     NaN  231.04  207.576923  156.0   125    70   120  111.44   80.173913\n"
          ]
        }
      ]
    },
    {
      "cell_type": "code",
      "source": [
        "if len(tables) > 0:\n",
        "    birthrate_table = tables[0]\n",
        "    birthrate_table = birthrate_table[['Регіон', '2019']]\n",
        "    birthrate_table.loc[:, '2019'] = birthrate_table['2019'].replace({'—': np.nan})\n",
        "    birthrate_table.loc[:, '2019'] = pd.to_numeric(birthrate_table['2019'])\n",
        "    avg_2019 = birthrate_table['2019'].mean()\n",
        "    avg = birthrate_table[birthrate_table['2019'] > avg_2019]\n",
        "    print(avg[['Регіон']])"
      ],
      "metadata": {
        "colab": {
          "base_uri": "https://localhost:8080/"
        },
        "id": "5rXrz7ymljhv",
        "outputId": "df377b2b-d732-47c7-9c9a-7270be00ea2b"
      },
      "execution_count": null,
      "outputs": [
        {
          "output_type": "stream",
          "name": "stdout",
          "text": [
            "               Регіон\n",
            "2           Волинська\n",
            "6        Закарпатська\n",
            "8   Івано-Франківська\n",
            "12          Львівська\n",
            "14            Одеська\n",
            "16         Рівненська\n",
            "20         Херсонська\n",
            "23        Чернівецька\n",
            "25               Київ\n",
            "27            Україна\n"
          ]
        }
      ]
    },
    {
      "cell_type": "code",
      "source": [
        "if len(tables) > 0:\n",
        "    birthrate_table = tables[0]\n",
        "    birthrate_table.loc[:, '2019'] = birthrate_table['2019'].replace({'—': np.nan})\n",
        "    birthrate_table.loc[:, '2019'] = pd.to_numeric(birthrate_table['2019'])\n",
        "    birthrate_2014 = birthrate_table['2014'].max()\n",
        "    region_max_birthrate = birthrate_table[birthrate_table['2014'] == birthrate_2014]\n",
        "\n",
        "    print(region_max_birthrate)"
      ],
      "metadata": {
        "colab": {
          "base_uri": "https://localhost:8080/"
        },
        "id": "5ElMVj4Qn-xJ",
        "outputId": "ba0930f4-b9f7-42a1-a4db-fe3001e8cfcf"
      },
      "execution_count": null,
      "outputs": [
        {
          "output_type": "stream",
          "name": "stdout",
          "text": [
            "         Регіон   1950   1960   1970  1990  2000  2012 2014 2019\n",
            "0          Крим  230.0  206.0  160.0   130    73   126    —  NaN\n",
            "26  Севастополь    NaN    NaN    NaN   125    70   120    —  NaN\n"
          ]
        }
      ]
    },
    {
      "cell_type": "code",
      "source": [
        "if len(tables) > 0:\n",
        "    birthrate_table = tables[0]\n",
        "    birthrate_2019 = birthrate_table[['Регіон', '2019']]\n",
        "    birthrate_2019 = birthrate_2019.dropna()\n",
        "    birthrate_2019['2019'] = pd.to_numeric(birthrate_2019['2019'])\n",
        "    birthrate_2019 = birthrate_2019.sort_values(by='2019', ascending=False)\n",
        "    plt.figure(figsize=(12, 8))\n",
        "    plt.barh(birthrate_2019['Регіон'], birthrate_2019['2019'], color='green')\n",
        "    plt.xlabel('Коефіцієнт народжуваності')\n",
        "    plt.ylabel('Регіони України')\n",
        "    plt.title('Коефіцієнт народжуваності в регіонах України (2019 рік)')\n",
        "    plt.gca().invert_yaxis()\n",
        "    plt.show()"
      ],
      "metadata": {
        "colab": {
          "base_uri": "https://localhost:8080/",
          "height": 718
        },
        "id": "Z7M8QKGIonn_",
        "outputId": "db90b9b5-5333-49b4-e04f-b64439d7a670"
      },
      "execution_count": null,
      "outputs": [
        {
          "output_type": "display_data",
          "data": {
            "text/plain": [
              "<Figure size 1200x800 with 1 Axes>"
            ],
            "image/png": "[encoded data removed]"
          },
          "metadata": {}
        }
      ]
    }
  ]
}